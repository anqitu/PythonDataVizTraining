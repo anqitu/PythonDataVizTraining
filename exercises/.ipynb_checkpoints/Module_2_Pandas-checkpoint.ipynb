{
 "cells": [
  {
   "cell_type": "markdown",
   "metadata": {},
   "source": [
    "# Module 2 Data Visualization with Pandas"
   ]
  },
  {
   "cell_type": "markdown",
   "metadata": {},
   "source": [
    "## Scatter Plot"
   ]
  },
  {
   "cell_type": "code",
   "execution_count": null,
   "metadata": {},
   "outputs": [],
   "source": [
    "import pandas as pd\n",
    "\n",
    "mtcars = pd.read_csv('data/mtcars.csv',usecols=['car_names', 'mpg','hp','cyl','am'],index_col='car_names')\n",
    "mtcars"
   ]
  },
  {
   "cell_type": "code",
   "execution_count": 129,
   "metadata": {},
   "outputs": [
    {
     "data": {
      "text/plain": [
       "[]"
      ]
     },
     "execution_count": 129,
     "metadata": {},
     "output_type": "execute_result"
    },
    {
     "data": {
      "image/png": "[encoded data removed]",
      "text/plain": [
       "<Figure size 432x288 with 1 Axes>"
      ]
     },
     "metadata": {},
     "output_type": "display_data"
    }
   ],
   "source": [
    "%matplotlib inline\n",
    "\n",
    "import matplotlib.pyplot as plt\n",
    "\n",
    "plt.scatter(mtcars.mpg, mtcars.hp)\n",
    "plt.xlabel('mpg')\n",
    "plt.ylabel('hp')\n",
    "plt.plot()\n"
   ]
  },
  {
   "cell_type": "code",
   "execution_count": null,
   "metadata": {},
   "outputs": [],
   "source": [
    "mtcars.plot.scatter('mpg', 'hp')"
   ]
  },
  {
   "cell_type": "code",
   "execution_count": null,
   "metadata": {},
   "outputs": [],
   "source": [
    "from pandas.plotting import scatter_matrix\n",
    "\n",
    "scatter_matrix(mtcars,figsize=(10, 10))\n",
    "\n",
    "#plt.matshow(mtcars.corr())"
   ]
  },
  {
   "cell_type": "code",
   "execution_count": 1,
   "metadata": {},
   "outputs": [
    {
     "data": {
      "text/html": [
       "<div>\n",
       "<style scoped>\n",
       "    .dataframe tbody tr th:only-of-type {\n",
       "        vertical-align: middle;\n",
       "    }\n",
       "\n",
       "    .dataframe tbody tr th {\n",
       "        vertical-align: top;\n",
       "    }\n",
       "\n",
       "    .dataframe thead th {\n",
       "        text-align: right;\n",
       "    }\n",
       "</style>\n",
       "<table border=\"1\" class=\"dataframe\">\n",
       "  <thead>\n",
       "    <tr style=\"text-align: right;\">\n",
       "      <th></th>\n",
       "      <th>Sales</th>\n",
       "    </tr>\n",
       "    <tr>\n",
       "      <th>Order Date</th>\n",
       "      <th></th>\n",
       "    </tr>\n",
       "  </thead>\n",
       "  <tbody>\n",
       "    <tr>\n",
       "      <th>31/7/12</th>\n",
       "      <td>2309.650</td>\n",
       "    </tr>\n",
       "    <tr>\n",
       "      <th>5/2/13</th>\n",
       "      <td>3709.395</td>\n",
       "    </tr>\n",
       "    <tr>\n",
       "      <th>17/10/13</th>\n",
       "      <td>5175.171</td>\n",
       "    </tr>\n",
       "    <tr>\n",
       "      <th>28/1/13</th>\n",
       "      <td>2892.510</td>\n",
       "    </tr>\n",
       "    <tr>\n",
       "      <th>5/11/13</th>\n",
       "      <td>2832.960</td>\n",
       "    </tr>\n",
       "    <tr>\n",
       "      <th>28/6/13</th>\n",
       "      <td>2862.675</td>\n",
       "    </tr>\n",
       "    <tr>\n",
       "      <th>7/11/11</th>\n",
       "      <td>1822.080</td>\n",
       "    </tr>\n",
       "    <tr>\n",
       "      <th>14/4/12</th>\n",
       "      <td>5244.840</td>\n",
       "    </tr>\n",
       "    <tr>\n",
       "      <th>14/10/14</th>\n",
       "      <td>5083.960</td>\n",
       "    </tr>\n",
       "    <tr>\n",
       "      <th>28/1/12</th>\n",
       "      <td>4297.644</td>\n",
       "    </tr>\n",
       "    <tr>\n",
       "      <th>5/4/11</th>\n",
       "      <td>4164.050</td>\n",
       "    </tr>\n",
       "    <tr>\n",
       "      <th>19/4/12</th>\n",
       "      <td>4626.150</td>\n",
       "    </tr>\n",
       "    <tr>\n",
       "      <th>27/12/11</th>\n",
       "      <td>2616.960</td>\n",
       "    </tr>\n",
       "    <tr>\n",
       "      <th>13/11/12</th>\n",
       "      <td>2221.800</td>\n",
       "    </tr>\n",
       "    <tr>\n",
       "      <th>6/6/13</th>\n",
       "      <td>3701.520</td>\n",
       "    </tr>\n",
       "    <tr>\n",
       "      <th>31/7/14</th>\n",
       "      <td>1869.588</td>\n",
       "    </tr>\n",
       "    <tr>\n",
       "      <th>3/11/14</th>\n",
       "      <td>2249.910</td>\n",
       "    </tr>\n",
       "    <tr>\n",
       "      <th>8/9/14</th>\n",
       "      <td>7958.580</td>\n",
       "    </tr>\n",
       "    <tr>\n",
       "      <th>31/1/14</th>\n",
       "      <td>2565.594</td>\n",
       "    </tr>\n",
       "    <tr>\n",
       "      <th>5/12/14</th>\n",
       "      <td>3409.740</td>\n",
       "    </tr>\n",
       "    <tr>\n",
       "      <th>8/8/12</th>\n",
       "      <td>1977.720</td>\n",
       "    </tr>\n",
       "    <tr>\n",
       "      <th>29/10/11</th>\n",
       "      <td>2735.952</td>\n",
       "    </tr>\n",
       "    <tr>\n",
       "      <th>2/5/11</th>\n",
       "      <td>2754.000</td>\n",
       "    </tr>\n",
       "    <tr>\n",
       "      <th>27/2/13</th>\n",
       "      <td>5273.700</td>\n",
       "    </tr>\n",
       "    <tr>\n",
       "      <th>31/7/14</th>\n",
       "      <td>1713.840</td>\n",
       "    </tr>\n",
       "    <tr>\n",
       "      <th>5/9/14</th>\n",
       "      <td>2106.496</td>\n",
       "    </tr>\n",
       "    <tr>\n",
       "      <th>17/12/11</th>\n",
       "      <td>1715.160</td>\n",
       "    </tr>\n",
       "    <tr>\n",
       "      <th>14/3/11</th>\n",
       "      <td>3069.738</td>\n",
       "    </tr>\n",
       "    <tr>\n",
       "      <th>11/3/13</th>\n",
       "      <td>4158.912</td>\n",
       "    </tr>\n",
       "    <tr>\n",
       "      <th>25/2/12</th>\n",
       "      <td>1878.720</td>\n",
       "    </tr>\n",
       "    <tr>\n",
       "      <th>...</th>\n",
       "      <td>...</td>\n",
       "    </tr>\n",
       "    <tr>\n",
       "      <th>16/9/13</th>\n",
       "      <td>20.416</td>\n",
       "    </tr>\n",
       "    <tr>\n",
       "      <th>17/12/14</th>\n",
       "      <td>53.730</td>\n",
       "    </tr>\n",
       "    <tr>\n",
       "      <th>23/12/14</th>\n",
       "      <td>6.690</td>\n",
       "    </tr>\n",
       "    <tr>\n",
       "      <th>22/12/11</th>\n",
       "      <td>36.480</td>\n",
       "    </tr>\n",
       "    <tr>\n",
       "      <th>5/8/14</th>\n",
       "      <td>17.880</td>\n",
       "    </tr>\n",
       "    <tr>\n",
       "      <th>10/5/11</th>\n",
       "      <td>200.400</td>\n",
       "    </tr>\n",
       "    <tr>\n",
       "      <th>25/11/14</th>\n",
       "      <td>47.142</td>\n",
       "    </tr>\n",
       "    <tr>\n",
       "      <th>10/8/12</th>\n",
       "      <td>49.302</td>\n",
       "    </tr>\n",
       "    <tr>\n",
       "      <th>4/6/12</th>\n",
       "      <td>30.440</td>\n",
       "    </tr>\n",
       "    <tr>\n",
       "      <th>7/6/13</th>\n",
       "      <td>12.960</td>\n",
       "    </tr>\n",
       "    <tr>\n",
       "      <th>18/10/11</th>\n",
       "      <td>1.344</td>\n",
       "    </tr>\n",
       "    <tr>\n",
       "      <th>9/4/14</th>\n",
       "      <td>5.340</td>\n",
       "    </tr>\n",
       "    <tr>\n",
       "      <th>17/4/14</th>\n",
       "      <td>19.320</td>\n",
       "    </tr>\n",
       "    <tr>\n",
       "      <th>30/9/13</th>\n",
       "      <td>41.640</td>\n",
       "    </tr>\n",
       "    <tr>\n",
       "      <th>11/9/14</th>\n",
       "      <td>5.920</td>\n",
       "    </tr>\n",
       "    <tr>\n",
       "      <th>3/12/11</th>\n",
       "      <td>52.590</td>\n",
       "    </tr>\n",
       "    <tr>\n",
       "      <th>9/6/14</th>\n",
       "      <td>1.624</td>\n",
       "    </tr>\n",
       "    <tr>\n",
       "      <th>25/12/12</th>\n",
       "      <td>17.940</td>\n",
       "    </tr>\n",
       "    <tr>\n",
       "      <th>8/9/11</th>\n",
       "      <td>5.364</td>\n",
       "    </tr>\n",
       "    <tr>\n",
       "      <th>21/3/11</th>\n",
       "      <td>9.612</td>\n",
       "    </tr>\n",
       "    <tr>\n",
       "      <th>29/11/14</th>\n",
       "      <td>34.128</td>\n",
       "    </tr>\n",
       "    <tr>\n",
       "      <th>9/6/14</th>\n",
       "      <td>84.000</td>\n",
       "    </tr>\n",
       "    <tr>\n",
       "      <th>28/12/12</th>\n",
       "      <td>18.640</td>\n",
       "    </tr>\n",
       "    <tr>\n",
       "      <th>30/5/14</th>\n",
       "      <td>26.940</td>\n",
       "    </tr>\n",
       "    <tr>\n",
       "      <th>5/8/14</th>\n",
       "      <td>58.050</td>\n",
       "    </tr>\n",
       "    <tr>\n",
       "      <th>19/6/14</th>\n",
       "      <td>65.100</td>\n",
       "    </tr>\n",
       "    <tr>\n",
       "      <th>20/6/14</th>\n",
       "      <td>0.444</td>\n",
       "    </tr>\n",
       "    <tr>\n",
       "      <th>2/12/13</th>\n",
       "      <td>22.920</td>\n",
       "    </tr>\n",
       "    <tr>\n",
       "      <th>18/2/12</th>\n",
       "      <td>13.440</td>\n",
       "    </tr>\n",
       "    <tr>\n",
       "      <th>22/5/12</th>\n",
       "      <td>61.380</td>\n",
       "    </tr>\n",
       "  </tbody>\n",
       "</table>\n",
       "<p>51290 rows × 1 columns</p>\n",
       "</div>"
      ],
      "text/plain": [
       "               Sales\n",
       "Order Date          \n",
       "31/7/12     2309.650\n",
       "5/2/13      3709.395\n",
       "17/10/13    5175.171\n",
       "28/1/13     2892.510\n",
       "5/11/13     2832.960\n",
       "28/6/13     2862.675\n",
       "7/11/11     1822.080\n",
       "14/4/12     5244.840\n",
       "14/10/14    5083.960\n",
       "28/1/12     4297.644\n",
       "5/4/11      4164.050\n",
       "19/4/12     4626.150\n",
       "27/12/11    2616.960\n",
       "13/11/12    2221.800\n",
       "6/6/13      3701.520\n",
       "31/7/14     1869.588\n",
       "3/11/14     2249.910\n",
       "8/9/14      7958.580\n",
       "31/1/14     2565.594\n",
       "5/12/14     3409.740\n",
       "8/8/12      1977.720\n",
       "29/10/11    2735.952\n",
       "2/5/11      2754.000\n",
       "27/2/13     5273.700\n",
       "31/7/14     1713.840\n",
       "5/9/14      2106.496\n",
       "17/12/11    1715.160\n",
       "14/3/11     3069.738\n",
       "11/3/13     4158.912\n",
       "25/2/12     1878.720\n",
       "...              ...\n",
       "16/9/13       20.416\n",
       "17/12/14      53.730\n",
       "23/12/14       6.690\n",
       "22/12/11      36.480\n",
       "5/8/14        17.880\n",
       "10/5/11      200.400\n",
       "25/11/14      47.142\n",
       "10/8/12       49.302\n",
       "4/6/12        30.440\n",
       "7/6/13        12.960\n",
       "18/10/11       1.344\n",
       "9/4/14         5.340\n",
       "17/4/14       19.320\n",
       "30/9/13       41.640\n",
       "11/9/14        5.920\n",
       "3/12/11       52.590\n",
       "9/6/14         1.624\n",
       "25/12/12      17.940\n",
       "8/9/11         5.364\n",
       "21/3/11        9.612\n",
       "29/11/14      34.128\n",
       "9/6/14        84.000\n",
       "28/12/12      18.640\n",
       "30/5/14       26.940\n",
       "5/8/14        58.050\n",
       "19/6/14       65.100\n",
       "20/6/14        0.444\n",
       "2/12/13       22.920\n",
       "18/2/12       13.440\n",
       "22/5/12       61.380\n",
       "\n",
       "[51290 rows x 1 columns]"
      ]
     },
     "execution_count": 1,
     "metadata": {},
     "output_type": "execute_result"
    }
   ],
   "source": [
    "import pandas as pd\n",
    "\n",
    "gs = pd.read_csv('data/gs.csv',usecols=['Order Date','Sales'],index_col='Order Date')\n",
    "gs"
   ]
  },
  {
   "cell_type": "code",
   "execution_count": null,
   "metadata": {},
   "outputs": [],
   "source": [
    "mtcars.plot.scatter('mpg', 'hp')"
   ]
  },
  {
   "cell_type": "markdown",
   "metadata": {},
   "source": [
    "## Simple Bar Chart"
   ]
  },
  {
   "cell_type": "code",
   "execution_count": null,
   "metadata": {},
   "outputs": [],
   "source": [
    "cyl = pd.crosstab(mtcars[\"cyl\"], columns=\"count\") \n",
    "\n",
    "cyl.plot.bar()"
   ]
  },
  {
   "cell_type": "code",
   "execution_count": null,
   "metadata": {},
   "outputs": [],
   "source": [
    "cyl.plot.barh()"
   ]
  },
  {
   "cell_type": "code",
   "execution_count": null,
   "metadata": {},
   "outputs": [],
   "source": [
    "mtcars.cyl.value_counts().plot.bar()"
   ]
  },
  {
   "cell_type": "markdown",
   "metadata": {},
   "source": [
    "## Stacked Bar Chart"
   ]
  },
  {
   "cell_type": "code",
   "execution_count": null,
   "metadata": {},
   "outputs": [],
   "source": [
    "cyl_am = pd.crosstab(mtcars['cyl'], mtcars['am'])\n",
    "\n",
    "cyl_am.plot.bar(stacked=True)"
   ]
  },
  {
   "cell_type": "code",
   "execution_count": null,
   "metadata": {},
   "outputs": [],
   "source": [
    "cyl_am.plot.barh(stacked=True)"
   ]
  },
  {
   "cell_type": "markdown",
   "metadata": {},
   "source": [
    "## Grouped Bar Chart"
   ]
  },
  {
   "cell_type": "code",
   "execution_count": null,
   "metadata": {},
   "outputs": [],
   "source": [
    "mtcars.loc[:,['mpg','hp','cyl']].groupby('cyl').sum().plot.bar()\n"
   ]
  },
  {
   "cell_type": "code",
   "execution_count": null,
   "metadata": {
    "scrolled": true
   },
   "outputs": [],
   "source": [
    "mtcars.loc[:,['mpg','hp','cyl']].groupby('cyl').sum().plot.barh()\n"
   ]
  },
  {
   "cell_type": "markdown",
   "metadata": {},
   "source": [
    "## Pie Chart"
   ]
  },
  {
   "cell_type": "code",
   "execution_count": null,
   "metadata": {},
   "outputs": [],
   "source": [
    "mtcars.cyl.value_counts().plot.pie()"
   ]
  },
  {
   "cell_type": "code",
   "execution_count": null,
   "metadata": {},
   "outputs": [],
   "source": [
    "mtcars.cyl.value_counts().plot.pie(colors=['r', 'g', 'b'],autopct='%.2f', fontsize=20, figsize=(6, 6))"
   ]
  },
  {
   "cell_type": "markdown",
   "metadata": {},
   "source": [
    "## Histogram"
   ]
  },
  {
   "cell_type": "code",
   "execution_count": 108,
   "metadata": {},
   "outputs": [
    {
     "data": {
      "text/plain": [
       "<matplotlib.axes._subplots.AxesSubplot at 0x1254db828>"
      ]
     },
     "execution_count": 108,
     "metadata": {},
     "output_type": "execute_result"
    },
    {
     "data": {
      "image/png": "[encoded data removed]",
      "text/plain": [
       "<Figure size 432x288 with 1 Axes>"
      ]
     },
     "metadata": {},
     "output_type": "display_data"
    }
   ],
   "source": [
    "mtcars.mpg.plot.hist(bins=10)"
   ]
  },
  {
   "cell_type": "markdown",
   "metadata": {},
   "source": [
    "## Box Plot"
   ]
  },
  {
   "cell_type": "code",
   "execution_count": 128,
   "metadata": {},
   "outputs": [
    {
     "data": {
      "text/plain": [
       "<matplotlib.axes._subplots.AxesSubplot at 0x124854c50>"
      ]
     },
     "execution_count": 128,
     "metadata": {},
     "output_type": "execute_result"
    },
    {
     "data": {
      "image/png": "[encoded data removed]",
      "text/plain": [
       "<Figure size 432x288 with 1 Axes>"
      ]
     },
     "metadata": {},
     "output_type": "display_data"
    }
   ],
   "source": [
    "mtcars.boxplot('mpg', by='cyl')"
   ]
  },
  {
   "cell_type": "code",
   "execution_count": null,
   "metadata": {},
   "outputs": [],
   "source": []
  }
 ],
 "metadata": {
  "kernelspec": {
   "display_name": "Python 3",
   "language": "python",
   "name": "python3"
  },
  "language_info": {
   "codemirror_mode": {
    "name": "ipython",
    "version": 3
   },
   "file_extension": ".py",
   "mimetype": "text/x-python",
   "name": "python",
   "nbconvert_exporter": "python",
   "pygments_lexer": "ipython3",
   "version": "3.6.5"
  }
 },
 "nbformat": 4,
 "nbformat_minor": 2
}
