{
 "cells": [
  {
   "cell_type": "markdown",
   "metadata": {},
   "source": [
    "# Module 2 Data Visualization with Pandas"
   ]
  },
  {
   "cell_type": "markdown",
   "metadata": {},
   "source": [
    "## Visualizing Statistical Relationship"
   ]
  },
  {
   "cell_type": "markdown",
   "metadata": {},
   "source": [
    "## Scatter Plot"
   ]
  },
  {
   "cell_type": "code",
   "execution_count": null,
   "metadata": {},
   "outputs": [],
   "source": [
    "import pandas as pd\n",
    "\n",
    "mtcars = pd.read_csv('data/mtcars.csv',usecols=['car_names', 'mpg','hp','cyl','am'],index_col='car_names')\n",
    "mtcars"
   ]
  },
  {
   "cell_type": "code",
   "execution_count": 129,
   "metadata": {},
   "outputs": [
    {
     "data": {
      "text/plain": [
       "[]"
      ]
     },
     "execution_count": 129,
     "metadata": {},
     "output_type": "execute_result"
    },
    {
     "data": {
      "image/png": "[encoded data removed]",
      "text/plain": [
       "<Figure size 432x288 with 1 Axes>"
      ]
     },
     "metadata": {},
     "output_type": "display_data"
    }
   ],
   "source": [
    "%matplotlib inline\n",
    "\n",
    "import matplotlib.pyplot as plt\n",
    "\n",
    "plt.scatter(mtcars.mpg, mtcars.hp)\n",
    "plt.xlabel('mpg')\n",
    "plt.ylabel('hp')\n",
    "plt.plot()\n"
   ]
  },
  {
   "cell_type": "code",
   "execution_count": null,
   "metadata": {},
   "outputs": [],
   "source": [
    "mtcars.plot.scatter('mpg', 'hp')"
   ]
  },
  {
   "cell_type": "code",
   "execution_count": null,
   "metadata": {},
   "outputs": [],
   "source": [
    "from pandas.plotting import scatter_matrix\n",
    "\n",
    "scatter_matrix(mtcars,figsize=(10, 10))\n",
    "\n",
    "#plt.matshow(mtcars.corr())"
   ]
  },
  {
   "cell_type": "code",
   "execution_count": 9,
   "metadata": {},
   "outputs": [
    {
     "data": {
      "text/html": [
       "<div>\n",
       "<style scoped>\n",
       "    .dataframe tbody tr th:only-of-type {\n",
       "        vertical-align: middle;\n",
       "    }\n",
       "\n",
       "    .dataframe tbody tr th {\n",
       "        vertical-align: top;\n",
       "    }\n",
       "\n",
       "    .dataframe thead th {\n",
       "        text-align: right;\n",
       "    }\n",
       "</style>\n",
       "<table border=\"1\" class=\"dataframe\">\n",
       "  <thead>\n",
       "    <tr style=\"text-align: right;\">\n",
       "      <th></th>\n",
       "      <th>Market</th>\n",
       "      <th>Region</th>\n",
       "      <th>Category</th>\n",
       "      <th>Sales</th>\n",
       "    </tr>\n",
       "    <tr>\n",
       "      <th>Order Date</th>\n",
       "      <th></th>\n",
       "      <th></th>\n",
       "      <th></th>\n",
       "      <th></th>\n",
       "    </tr>\n",
       "  </thead>\n",
       "  <tbody>\n",
       "    <tr>\n",
       "      <th>31/7/12</th>\n",
       "      <td>US</td>\n",
       "      <td>East</td>\n",
       "      <td>Technology</td>\n",
       "      <td>2309.650</td>\n",
       "    </tr>\n",
       "    <tr>\n",
       "      <th>5/2/13</th>\n",
       "      <td>APAC</td>\n",
       "      <td>Oceania</td>\n",
       "      <td>Furniture</td>\n",
       "      <td>3709.395</td>\n",
       "    </tr>\n",
       "    <tr>\n",
       "      <th>17/10/13</th>\n",
       "      <td>APAC</td>\n",
       "      <td>Oceania</td>\n",
       "      <td>Technology</td>\n",
       "      <td>5175.171</td>\n",
       "    </tr>\n",
       "    <tr>\n",
       "      <th>28/1/13</th>\n",
       "      <td>EU</td>\n",
       "      <td>Central</td>\n",
       "      <td>Technology</td>\n",
       "      <td>2892.510</td>\n",
       "    </tr>\n",
       "    <tr>\n",
       "      <th>5/11/13</th>\n",
       "      <td>Africa</td>\n",
       "      <td>Africa</td>\n",
       "      <td>Technology</td>\n",
       "      <td>2832.960</td>\n",
       "    </tr>\n",
       "    <tr>\n",
       "      <th>28/6/13</th>\n",
       "      <td>APAC</td>\n",
       "      <td>Oceania</td>\n",
       "      <td>Technology</td>\n",
       "      <td>2862.675</td>\n",
       "    </tr>\n",
       "    <tr>\n",
       "      <th>7/11/11</th>\n",
       "      <td>APAC</td>\n",
       "      <td>Oceania</td>\n",
       "      <td>Furniture</td>\n",
       "      <td>1822.080</td>\n",
       "    </tr>\n",
       "    <tr>\n",
       "      <th>14/4/12</th>\n",
       "      <td>APAC</td>\n",
       "      <td>Oceania</td>\n",
       "      <td>Furniture</td>\n",
       "      <td>5244.840</td>\n",
       "    </tr>\n",
       "    <tr>\n",
       "      <th>14/10/14</th>\n",
       "      <td>US</td>\n",
       "      <td>West</td>\n",
       "      <td>Office Supplies</td>\n",
       "      <td>5083.960</td>\n",
       "    </tr>\n",
       "    <tr>\n",
       "      <th>28/1/12</th>\n",
       "      <td>US</td>\n",
       "      <td>South</td>\n",
       "      <td>Furniture</td>\n",
       "      <td>4297.644</td>\n",
       "    </tr>\n",
       "    <tr>\n",
       "      <th>5/4/11</th>\n",
       "      <td>US</td>\n",
       "      <td>South</td>\n",
       "      <td>Office Supplies</td>\n",
       "      <td>4164.050</td>\n",
       "    </tr>\n",
       "    <tr>\n",
       "      <th>19/4/12</th>\n",
       "      <td>APAC</td>\n",
       "      <td>Central Asia</td>\n",
       "      <td>Furniture</td>\n",
       "      <td>4626.150</td>\n",
       "    </tr>\n",
       "    <tr>\n",
       "      <th>27/12/11</th>\n",
       "      <td>EMEA</td>\n",
       "      <td>EMEA</td>\n",
       "      <td>Technology</td>\n",
       "      <td>2616.960</td>\n",
       "    </tr>\n",
       "    <tr>\n",
       "      <th>13/11/12</th>\n",
       "      <td>LATAM</td>\n",
       "      <td>South</td>\n",
       "      <td>Furniture</td>\n",
       "      <td>2221.800</td>\n",
       "    </tr>\n",
       "    <tr>\n",
       "      <th>6/6/13</th>\n",
       "      <td>APAC</td>\n",
       "      <td>North Asia</td>\n",
       "      <td>Office Supplies</td>\n",
       "      <td>3701.520</td>\n",
       "    </tr>\n",
       "    <tr>\n",
       "      <th>31/7/14</th>\n",
       "      <td>EU</td>\n",
       "      <td>Central</td>\n",
       "      <td>Office Supplies</td>\n",
       "      <td>1869.588</td>\n",
       "    </tr>\n",
       "    <tr>\n",
       "      <th>3/11/14</th>\n",
       "      <td>US</td>\n",
       "      <td>South</td>\n",
       "      <td>Technology</td>\n",
       "      <td>2249.910</td>\n",
       "    </tr>\n",
       "    <tr>\n",
       "      <th>8/9/14</th>\n",
       "      <td>EU</td>\n",
       "      <td>South</td>\n",
       "      <td>Office Supplies</td>\n",
       "      <td>7958.580</td>\n",
       "    </tr>\n",
       "    <tr>\n",
       "      <th>31/1/14</th>\n",
       "      <td>APAC</td>\n",
       "      <td>Oceania</td>\n",
       "      <td>Technology</td>\n",
       "      <td>2565.594</td>\n",
       "    </tr>\n",
       "    <tr>\n",
       "      <th>5/12/14</th>\n",
       "      <td>Africa</td>\n",
       "      <td>Africa</td>\n",
       "      <td>Office Supplies</td>\n",
       "      <td>3409.740</td>\n",
       "    </tr>\n",
       "    <tr>\n",
       "      <th>8/8/12</th>\n",
       "      <td>EMEA</td>\n",
       "      <td>EMEA</td>\n",
       "      <td>Furniture</td>\n",
       "      <td>1977.720</td>\n",
       "    </tr>\n",
       "    <tr>\n",
       "      <th>29/10/11</th>\n",
       "      <td>US</td>\n",
       "      <td>Central</td>\n",
       "      <td>Technology</td>\n",
       "      <td>2735.952</td>\n",
       "    </tr>\n",
       "    <tr>\n",
       "      <th>2/5/11</th>\n",
       "      <td>APAC</td>\n",
       "      <td>North Asia</td>\n",
       "      <td>Furniture</td>\n",
       "      <td>2754.000</td>\n",
       "    </tr>\n",
       "    <tr>\n",
       "      <th>27/2/13</th>\n",
       "      <td>EU</td>\n",
       "      <td>North</td>\n",
       "      <td>Office Supplies</td>\n",
       "      <td>5273.700</td>\n",
       "    </tr>\n",
       "    <tr>\n",
       "      <th>31/7/14</th>\n",
       "      <td>LATAM</td>\n",
       "      <td>North</td>\n",
       "      <td>Technology</td>\n",
       "      <td>1713.840</td>\n",
       "    </tr>\n",
       "    <tr>\n",
       "      <th>5/9/14</th>\n",
       "      <td>LATAM</td>\n",
       "      <td>Central</td>\n",
       "      <td>Furniture</td>\n",
       "      <td>2106.496</td>\n",
       "    </tr>\n",
       "    <tr>\n",
       "      <th>17/12/11</th>\n",
       "      <td>APAC</td>\n",
       "      <td>North Asia</td>\n",
       "      <td>Furniture</td>\n",
       "      <td>1715.160</td>\n",
       "    </tr>\n",
       "    <tr>\n",
       "      <th>14/3/11</th>\n",
       "      <td>EU</td>\n",
       "      <td>Central</td>\n",
       "      <td>Office Supplies</td>\n",
       "      <td>3069.738</td>\n",
       "    </tr>\n",
       "    <tr>\n",
       "      <th>11/3/13</th>\n",
       "      <td>US</td>\n",
       "      <td>West</td>\n",
       "      <td>Technology</td>\n",
       "      <td>4158.912</td>\n",
       "    </tr>\n",
       "    <tr>\n",
       "      <th>25/2/12</th>\n",
       "      <td>APAC</td>\n",
       "      <td>Central Asia</td>\n",
       "      <td>Furniture</td>\n",
       "      <td>1878.720</td>\n",
       "    </tr>\n",
       "    <tr>\n",
       "      <th>...</th>\n",
       "      <td>...</td>\n",
       "      <td>...</td>\n",
       "      <td>...</td>\n",
       "      <td>...</td>\n",
       "    </tr>\n",
       "    <tr>\n",
       "      <th>16/9/13</th>\n",
       "      <td>US</td>\n",
       "      <td>West</td>\n",
       "      <td>Office Supplies</td>\n",
       "      <td>20.416</td>\n",
       "    </tr>\n",
       "    <tr>\n",
       "      <th>17/12/14</th>\n",
       "      <td>EMEA</td>\n",
       "      <td>EMEA</td>\n",
       "      <td>Office Supplies</td>\n",
       "      <td>53.730</td>\n",
       "    </tr>\n",
       "    <tr>\n",
       "      <th>23/12/14</th>\n",
       "      <td>Canada</td>\n",
       "      <td>Canada</td>\n",
       "      <td>Office Supplies</td>\n",
       "      <td>6.690</td>\n",
       "    </tr>\n",
       "    <tr>\n",
       "      <th>22/12/11</th>\n",
       "      <td>LATAM</td>\n",
       "      <td>North</td>\n",
       "      <td>Office Supplies</td>\n",
       "      <td>36.480</td>\n",
       "    </tr>\n",
       "    <tr>\n",
       "      <th>5/8/14</th>\n",
       "      <td>EU</td>\n",
       "      <td>Central</td>\n",
       "      <td>Office Supplies</td>\n",
       "      <td>17.880</td>\n",
       "    </tr>\n",
       "    <tr>\n",
       "      <th>10/5/11</th>\n",
       "      <td>EU</td>\n",
       "      <td>North</td>\n",
       "      <td>Office Supplies</td>\n",
       "      <td>200.400</td>\n",
       "    </tr>\n",
       "    <tr>\n",
       "      <th>25/11/14</th>\n",
       "      <td>APAC</td>\n",
       "      <td>Oceania</td>\n",
       "      <td>Office Supplies</td>\n",
       "      <td>47.142</td>\n",
       "    </tr>\n",
       "    <tr>\n",
       "      <th>10/8/12</th>\n",
       "      <td>APAC</td>\n",
       "      <td>Southeast Asia</td>\n",
       "      <td>Office Supplies</td>\n",
       "      <td>49.302</td>\n",
       "    </tr>\n",
       "    <tr>\n",
       "      <th>4/6/12</th>\n",
       "      <td>US</td>\n",
       "      <td>East</td>\n",
       "      <td>Office Supplies</td>\n",
       "      <td>30.440</td>\n",
       "    </tr>\n",
       "    <tr>\n",
       "      <th>7/6/13</th>\n",
       "      <td>US</td>\n",
       "      <td>South</td>\n",
       "      <td>Office Supplies</td>\n",
       "      <td>12.960</td>\n",
       "    </tr>\n",
       "    <tr>\n",
       "      <th>18/10/11</th>\n",
       "      <td>US</td>\n",
       "      <td>West</td>\n",
       "      <td>Office Supplies</td>\n",
       "      <td>1.344</td>\n",
       "    </tr>\n",
       "    <tr>\n",
       "      <th>9/4/14</th>\n",
       "      <td>EMEA</td>\n",
       "      <td>EMEA</td>\n",
       "      <td>Office Supplies</td>\n",
       "      <td>5.340</td>\n",
       "    </tr>\n",
       "    <tr>\n",
       "      <th>17/4/14</th>\n",
       "      <td>LATAM</td>\n",
       "      <td>Caribbean</td>\n",
       "      <td>Office Supplies</td>\n",
       "      <td>19.320</td>\n",
       "    </tr>\n",
       "    <tr>\n",
       "      <th>30/9/13</th>\n",
       "      <td>LATAM</td>\n",
       "      <td>North</td>\n",
       "      <td>Office Supplies</td>\n",
       "      <td>41.640</td>\n",
       "    </tr>\n",
       "    <tr>\n",
       "      <th>11/9/14</th>\n",
       "      <td>LATAM</td>\n",
       "      <td>South</td>\n",
       "      <td>Office Supplies</td>\n",
       "      <td>5.920</td>\n",
       "    </tr>\n",
       "    <tr>\n",
       "      <th>3/12/11</th>\n",
       "      <td>EU</td>\n",
       "      <td>Central</td>\n",
       "      <td>Office Supplies</td>\n",
       "      <td>52.590</td>\n",
       "    </tr>\n",
       "    <tr>\n",
       "      <th>9/6/14</th>\n",
       "      <td>US</td>\n",
       "      <td>Central</td>\n",
       "      <td>Office Supplies</td>\n",
       "      <td>1.624</td>\n",
       "    </tr>\n",
       "    <tr>\n",
       "      <th>25/12/12</th>\n",
       "      <td>US</td>\n",
       "      <td>West</td>\n",
       "      <td>Office Supplies</td>\n",
       "      <td>17.940</td>\n",
       "    </tr>\n",
       "    <tr>\n",
       "      <th>8/9/11</th>\n",
       "      <td>Africa</td>\n",
       "      <td>Africa</td>\n",
       "      <td>Office Supplies</td>\n",
       "      <td>5.364</td>\n",
       "    </tr>\n",
       "    <tr>\n",
       "      <th>21/3/11</th>\n",
       "      <td>Africa</td>\n",
       "      <td>Africa</td>\n",
       "      <td>Office Supplies</td>\n",
       "      <td>9.612</td>\n",
       "    </tr>\n",
       "    <tr>\n",
       "      <th>29/11/14</th>\n",
       "      <td>EMEA</td>\n",
       "      <td>EMEA</td>\n",
       "      <td>Office Supplies</td>\n",
       "      <td>34.128</td>\n",
       "    </tr>\n",
       "    <tr>\n",
       "      <th>9/6/14</th>\n",
       "      <td>LATAM</td>\n",
       "      <td>South</td>\n",
       "      <td>Office Supplies</td>\n",
       "      <td>84.000</td>\n",
       "    </tr>\n",
       "    <tr>\n",
       "      <th>28/12/12</th>\n",
       "      <td>LATAM</td>\n",
       "      <td>Central</td>\n",
       "      <td>Office Supplies</td>\n",
       "      <td>18.640</td>\n",
       "    </tr>\n",
       "    <tr>\n",
       "      <th>30/5/14</th>\n",
       "      <td>APAC</td>\n",
       "      <td>Central Asia</td>\n",
       "      <td>Office Supplies</td>\n",
       "      <td>26.940</td>\n",
       "    </tr>\n",
       "    <tr>\n",
       "      <th>5/8/14</th>\n",
       "      <td>APAC</td>\n",
       "      <td>Oceania</td>\n",
       "      <td>Office Supplies</td>\n",
       "      <td>58.050</td>\n",
       "    </tr>\n",
       "    <tr>\n",
       "      <th>19/6/14</th>\n",
       "      <td>APAC</td>\n",
       "      <td>North Asia</td>\n",
       "      <td>Office Supplies</td>\n",
       "      <td>65.100</td>\n",
       "    </tr>\n",
       "    <tr>\n",
       "      <th>20/6/14</th>\n",
       "      <td>US</td>\n",
       "      <td>Central</td>\n",
       "      <td>Office Supplies</td>\n",
       "      <td>0.444</td>\n",
       "    </tr>\n",
       "    <tr>\n",
       "      <th>2/12/13</th>\n",
       "      <td>US</td>\n",
       "      <td>West</td>\n",
       "      <td>Office Supplies</td>\n",
       "      <td>22.920</td>\n",
       "    </tr>\n",
       "    <tr>\n",
       "      <th>18/2/12</th>\n",
       "      <td>LATAM</td>\n",
       "      <td>South</td>\n",
       "      <td>Office Supplies</td>\n",
       "      <td>13.440</td>\n",
       "    </tr>\n",
       "    <tr>\n",
       "      <th>22/5/12</th>\n",
       "      <td>LATAM</td>\n",
       "      <td>Central</td>\n",
       "      <td>Office Supplies</td>\n",
       "      <td>61.380</td>\n",
       "    </tr>\n",
       "  </tbody>\n",
       "</table>\n",
       "<p>51290 rows × 4 columns</p>\n",
       "</div>"
      ],
      "text/plain": [
       "            Market          Region         Category     Sales\n",
       "Order Date                                                   \n",
       "31/7/12         US            East       Technology  2309.650\n",
       "5/2/13        APAC         Oceania        Furniture  3709.395\n",
       "17/10/13      APAC         Oceania       Technology  5175.171\n",
       "28/1/13         EU         Central       Technology  2892.510\n",
       "5/11/13     Africa          Africa       Technology  2832.960\n",
       "28/6/13       APAC         Oceania       Technology  2862.675\n",
       "7/11/11       APAC         Oceania        Furniture  1822.080\n",
       "14/4/12       APAC         Oceania        Furniture  5244.840\n",
       "14/10/14        US            West  Office Supplies  5083.960\n",
       "28/1/12         US           South        Furniture  4297.644\n",
       "5/4/11          US           South  Office Supplies  4164.050\n",
       "19/4/12       APAC    Central Asia        Furniture  4626.150\n",
       "27/12/11      EMEA            EMEA       Technology  2616.960\n",
       "13/11/12     LATAM           South        Furniture  2221.800\n",
       "6/6/13        APAC      North Asia  Office Supplies  3701.520\n",
       "31/7/14         EU         Central  Office Supplies  1869.588\n",
       "3/11/14         US           South       Technology  2249.910\n",
       "8/9/14          EU           South  Office Supplies  7958.580\n",
       "31/1/14       APAC         Oceania       Technology  2565.594\n",
       "5/12/14     Africa          Africa  Office Supplies  3409.740\n",
       "8/8/12        EMEA            EMEA        Furniture  1977.720\n",
       "29/10/11        US         Central       Technology  2735.952\n",
       "2/5/11        APAC      North Asia        Furniture  2754.000\n",
       "27/2/13         EU           North  Office Supplies  5273.700\n",
       "31/7/14      LATAM           North       Technology  1713.840\n",
       "5/9/14       LATAM         Central        Furniture  2106.496\n",
       "17/12/11      APAC      North Asia        Furniture  1715.160\n",
       "14/3/11         EU         Central  Office Supplies  3069.738\n",
       "11/3/13         US            West       Technology  4158.912\n",
       "25/2/12       APAC    Central Asia        Furniture  1878.720\n",
       "...            ...             ...              ...       ...\n",
       "16/9/13         US            West  Office Supplies    20.416\n",
       "17/12/14      EMEA            EMEA  Office Supplies    53.730\n",
       "23/12/14    Canada          Canada  Office Supplies     6.690\n",
       "22/12/11     LATAM           North  Office Supplies    36.480\n",
       "5/8/14          EU         Central  Office Supplies    17.880\n",
       "10/5/11         EU           North  Office Supplies   200.400\n",
       "25/11/14      APAC         Oceania  Office Supplies    47.142\n",
       "10/8/12       APAC  Southeast Asia  Office Supplies    49.302\n",
       "4/6/12          US            East  Office Supplies    30.440\n",
       "7/6/13          US           South  Office Supplies    12.960\n",
       "18/10/11        US            West  Office Supplies     1.344\n",
       "9/4/14        EMEA            EMEA  Office Supplies     5.340\n",
       "17/4/14      LATAM       Caribbean  Office Supplies    19.320\n",
       "30/9/13      LATAM           North  Office Supplies    41.640\n",
       "11/9/14      LATAM           South  Office Supplies     5.920\n",
       "3/12/11         EU         Central  Office Supplies    52.590\n",
       "9/6/14          US         Central  Office Supplies     1.624\n",
       "25/12/12        US            West  Office Supplies    17.940\n",
       "8/9/11      Africa          Africa  Office Supplies     5.364\n",
       "21/3/11     Africa          Africa  Office Supplies     9.612\n",
       "29/11/14      EMEA            EMEA  Office Supplies    34.128\n",
       "9/6/14       LATAM           South  Office Supplies    84.000\n",
       "28/12/12     LATAM         Central  Office Supplies    18.640\n",
       "30/5/14       APAC    Central Asia  Office Supplies    26.940\n",
       "5/8/14        APAC         Oceania  Office Supplies    58.050\n",
       "19/6/14       APAC      North Asia  Office Supplies    65.100\n",
       "20/6/14         US         Central  Office Supplies     0.444\n",
       "2/12/13         US            West  Office Supplies    22.920\n",
       "18/2/12      LATAM           South  Office Supplies    13.440\n",
       "22/5/12      LATAM         Central  Office Supplies    61.380\n",
       "\n",
       "[51290 rows x 4 columns]"
      ]
     },
     "execution_count": 9,
     "metadata": {},
     "output_type": "execute_result"
    }
   ],
   "source": [
    "import pandas as pd\n",
    "\n",
    "gs = pd.read_csv('data/gs.csv',usecols=['Order Date','Sales','Market','Region','Category'],index_col='Order Date')\n",
    "gs"
   ]
  },
  {
   "cell_type": "code",
   "execution_count": 13,
   "metadata": {},
   "outputs": [
    {
     "data": {
      "text/plain": [
       "<matplotlib.axes._subplots.AxesSubplot at 0x120ce4a58>"
      ]
     },
     "execution_count": 13,
     "metadata": {},
     "output_type": "execute_result"
    },
    {
     "data": {
      "image/png": "[encoded data removed]",
      "text/plain": [
       "<Figure size 432x288 with 1 Axes>"
      ]
     },
     "metadata": {},
     "output_type": "display_data"
    }
   ],
   "source": [
    "%matplotlib inline\n",
    "gs.plot.line()"
   ]
  },
  {
   "cell_type": "markdown",
   "metadata": {},
   "source": [
    "## Visualizing Categorical Data"
   ]
  },
  {
   "cell_type": "markdown",
   "metadata": {},
   "source": [
    "## Simple Bar Chart"
   ]
  },
  {
   "cell_type": "code",
   "execution_count": null,
   "metadata": {},
   "outputs": [],
   "source": [
    "cyl = pd.crosstab(mtcars[\"cyl\"], columns=\"count\") \n",
    "\n",
    "cyl.plot.bar()"
   ]
  },
  {
   "cell_type": "code",
   "execution_count": null,
   "metadata": {},
   "outputs": [],
   "source": [
    "cyl.plot.barh()"
   ]
  },
  {
   "cell_type": "code",
   "execution_count": null,
   "metadata": {},
   "outputs": [],
   "source": [
    "mtcars.cyl.value_counts().plot.bar()"
   ]
  },
  {
   "cell_type": "markdown",
   "metadata": {},
   "source": [
    "## Stacked Bar Chart"
   ]
  },
  {
   "cell_type": "code",
   "execution_count": null,
   "metadata": {},
   "outputs": [],
   "source": [
    "cyl_am = pd.crosstab(mtcars['cyl'], mtcars['am'])\n",
    "\n",
    "cyl_am.plot.bar(stacked=True)"
   ]
  },
  {
   "cell_type": "code",
   "execution_count": null,
   "metadata": {},
   "outputs": [],
   "source": [
    "cyl_am.plot.barh(stacked=True)"
   ]
  },
  {
   "cell_type": "markdown",
   "metadata": {},
   "source": [
    "## Grouped Bar Chart"
   ]
  },
  {
   "cell_type": "code",
   "execution_count": null,
   "metadata": {},
   "outputs": [],
   "source": [
    "mtcars.loc[:,['mpg','hp','cyl']].groupby('cyl').sum().plot.bar()\n"
   ]
  },
  {
   "cell_type": "code",
   "execution_count": null,
   "metadata": {
    "scrolled": true
   },
   "outputs": [],
   "source": [
    "mtcars.loc[:,['mpg','hp','cyl']].groupby('cyl').sum().plot.barh()\n"
   ]
  },
  {
   "cell_type": "markdown",
   "metadata": {},
   "source": [
    "## Pie Chart"
   ]
  },
  {
   "cell_type": "code",
   "execution_count": null,
   "metadata": {},
   "outputs": [],
   "source": [
    "mtcars.cyl.value_counts().plot.pie()"
   ]
  },
  {
   "cell_type": "code",
   "execution_count": null,
   "metadata": {},
   "outputs": [],
   "source": [
    "mtcars.cyl.value_counts().plot.pie(colors=['r', 'g', 'b'],autopct='%.2f', fontsize=20, figsize=(6, 6))"
   ]
  },
  {
   "cell_type": "markdown",
   "metadata": {},
   "source": [
    "## Visualizing Statistical Distributions"
   ]
  },
  {
   "cell_type": "markdown",
   "metadata": {},
   "source": [
    "## Histogram"
   ]
  },
  {
   "cell_type": "code",
   "execution_count": 108,
   "metadata": {},
   "outputs": [
    {
     "data": {
      "text/plain": [
       "<matplotlib.axes._subplots.AxesSubplot at 0x1254db828>"
      ]
     },
     "execution_count": 108,
     "metadata": {},
     "output_type": "execute_result"
    },
    {
     "data": {
      "image/png": "[encoded data removed]",
      "text/plain": [
       "<Figure size 432x288 with 1 Axes>"
      ]
     },
     "metadata": {},
     "output_type": "display_data"
    }
   ],
   "source": [
    "mtcars.mpg.plot.hist(bins=10)"
   ]
  },
  {
   "cell_type": "markdown",
   "metadata": {},
   "source": [
    "## Box Plot"
   ]
  },
  {
   "cell_type": "code",
   "execution_count": 128,
   "metadata": {},
   "outputs": [
    {
     "data": {
      "text/plain": [
       "<matplotlib.axes._subplots.AxesSubplot at 0x124854c50>"
      ]
     },
     "execution_count": 128,
     "metadata": {},
     "output_type": "execute_result"
    },
    {
     "data": {
      "image/png": "[encoded data removed]",
      "text/plain": [
       "<Figure size 432x288 with 1 Axes>"
      ]
     },
     "metadata": {},
     "output_type": "display_data"
    }
   ],
   "source": [
    "mtcars.boxplot('mpg', by='cyl')"
   ]
  },
  {
   "cell_type": "markdown",
   "metadata": {},
   "source": [
    "## Interactive Plots"
   ]
  },
  {
   "cell_type": "code",
   "execution_count": 2,
   "metadata": {},
   "outputs": [],
   "source": [
    "import pandas as pd\n",
    "gapminder = pd.read_csv('./data/gapminder.csv')"
   ]
  },
  {
   "cell_type": "code",
   "execution_count": 3,
   "metadata": {},
   "outputs": [
    {
     "data": {
      "text/html": [
       "<div>\n",
       "<style scoped>\n",
       "    .dataframe tbody tr th:only-of-type {\n",
       "        vertical-align: middle;\n",
       "    }\n",
       "\n",
       "    .dataframe tbody tr th {\n",
       "        vertical-align: top;\n",
       "    }\n",
       "\n",
       "    .dataframe thead th {\n",
       "        text-align: right;\n",
       "    }\n",
       "</style>\n",
       "<table border=\"1\" class=\"dataframe\">\n",
       "  <thead>\n",
       "    <tr style=\"text-align: right;\">\n",
       "      <th></th>\n",
       "      <th>country</th>\n",
       "      <th>year</th>\n",
       "      <th>region</th>\n",
       "      <th>population</th>\n",
       "      <th>life_expectancy</th>\n",
       "      <th>age5_surviving</th>\n",
       "      <th>babies_per_woman</th>\n",
       "      <th>gdp_per_capita</th>\n",
       "      <th>gdp_per_day</th>\n",
       "    </tr>\n",
       "  </thead>\n",
       "  <tbody>\n",
       "    <tr>\n",
       "      <th>0</th>\n",
       "      <td>Afghanistan</td>\n",
       "      <td>1800</td>\n",
       "      <td>Asia</td>\n",
       "      <td>3280000.0</td>\n",
       "      <td>28.21</td>\n",
       "      <td>53.142</td>\n",
       "      <td>7.00</td>\n",
       "      <td>603.0</td>\n",
       "      <td>1.650924</td>\n",
       "    </tr>\n",
       "    <tr>\n",
       "      <th>20</th>\n",
       "      <td>Afghanistan</td>\n",
       "      <td>1955</td>\n",
       "      <td>Asia</td>\n",
       "      <td>8270024.0</td>\n",
       "      <td>29.27</td>\n",
       "      <td>60.193</td>\n",
       "      <td>7.67</td>\n",
       "      <td>1125.0</td>\n",
       "      <td>3.080082</td>\n",
       "    </tr>\n",
       "    <tr>\n",
       "      <th>40</th>\n",
       "      <td>Afghanistan</td>\n",
       "      <td>1975</td>\n",
       "      <td>Asia</td>\n",
       "      <td>12582954.0</td>\n",
       "      <td>39.61</td>\n",
       "      <td>72.060</td>\n",
       "      <td>7.67</td>\n",
       "      <td>1201.0</td>\n",
       "      <td>3.288159</td>\n",
       "    </tr>\n",
       "    <tr>\n",
       "      <th>60</th>\n",
       "      <td>Afghanistan</td>\n",
       "      <td>1995</td>\n",
       "      <td>Asia</td>\n",
       "      <td>16772522.0</td>\n",
       "      <td>49.40</td>\n",
       "      <td>84.770</td>\n",
       "      <td>7.83</td>\n",
       "      <td>872.0</td>\n",
       "      <td>2.387406</td>\n",
       "    </tr>\n",
       "    <tr>\n",
       "      <th>80</th>\n",
       "      <td>Afghanistan</td>\n",
       "      <td>2015</td>\n",
       "      <td>Asia</td>\n",
       "      <td>32526562.0</td>\n",
       "      <td>53.80</td>\n",
       "      <td>90.890</td>\n",
       "      <td>4.47</td>\n",
       "      <td>1925.0</td>\n",
       "      <td>5.270363</td>\n",
       "    </tr>\n",
       "    <tr>\n",
       "      <th>100</th>\n",
       "      <td>Albania</td>\n",
       "      <td>1954</td>\n",
       "      <td>Europe</td>\n",
       "      <td>1382881.0</td>\n",
       "      <td>56.59</td>\n",
       "      <td>84.829</td>\n",
       "      <td>6.31</td>\n",
       "      <td>2108.0</td>\n",
       "      <td>5.771389</td>\n",
       "    </tr>\n",
       "    <tr>\n",
       "      <th>120</th>\n",
       "      <td>Albania</td>\n",
       "      <td>1974</td>\n",
       "      <td>Europe</td>\n",
       "      <td>2358467.0</td>\n",
       "      <td>69.35</td>\n",
       "      <td>90.082</td>\n",
       "      <td>4.54</td>\n",
       "      <td>4177.0</td>\n",
       "      <td>11.436003</td>\n",
       "    </tr>\n",
       "    <tr>\n",
       "      <th>140</th>\n",
       "      <td>Albania</td>\n",
       "      <td>1994</td>\n",
       "      <td>Europe</td>\n",
       "      <td>3140634.0</td>\n",
       "      <td>73.60</td>\n",
       "      <td>96.540</td>\n",
       "      <td>2.77</td>\n",
       "      <td>3457.0</td>\n",
       "      <td>9.464750</td>\n",
       "    </tr>\n",
       "    <tr>\n",
       "      <th>160</th>\n",
       "      <td>Albania</td>\n",
       "      <td>2014</td>\n",
       "      <td>Europe</td>\n",
       "      <td>2889676.0</td>\n",
       "      <td>77.90</td>\n",
       "      <td>98.560</td>\n",
       "      <td>1.78</td>\n",
       "      <td>10160.0</td>\n",
       "      <td>27.816564</td>\n",
       "    </tr>\n",
       "    <tr>\n",
       "      <th>180</th>\n",
       "      <td>Algeria</td>\n",
       "      <td>1953</td>\n",
       "      <td>Africa</td>\n",
       "      <td>9405445.0</td>\n",
       "      <td>43.96</td>\n",
       "      <td>73.758</td>\n",
       "      <td>7.65</td>\n",
       "      <td>4077.0</td>\n",
       "      <td>11.162218</td>\n",
       "    </tr>\n",
       "    <tr>\n",
       "      <th>200</th>\n",
       "      <td>Algeria</td>\n",
       "      <td>1973</td>\n",
       "      <td>Africa</td>\n",
       "      <td>15804428.0</td>\n",
       "      <td>53.91</td>\n",
       "      <td>77.660</td>\n",
       "      <td>7.55</td>\n",
       "      <td>7581.0</td>\n",
       "      <td>20.755647</td>\n",
       "    </tr>\n",
       "  </tbody>\n",
       "</table>\n",
       "</div>"
      ],
      "text/plain": [
       "         country  year  region  population  life_expectancy  age5_surviving  \\\n",
       "0    Afghanistan  1800    Asia   3280000.0            28.21          53.142   \n",
       "20   Afghanistan  1955    Asia   8270024.0            29.27          60.193   \n",
       "40   Afghanistan  1975    Asia  12582954.0            39.61          72.060   \n",
       "60   Afghanistan  1995    Asia  16772522.0            49.40          84.770   \n",
       "80   Afghanistan  2015    Asia  32526562.0            53.80          90.890   \n",
       "100      Albania  1954  Europe   1382881.0            56.59          84.829   \n",
       "120      Albania  1974  Europe   2358467.0            69.35          90.082   \n",
       "140      Albania  1994  Europe   3140634.0            73.60          96.540   \n",
       "160      Albania  2014  Europe   2889676.0            77.90          98.560   \n",
       "180      Algeria  1953  Africa   9405445.0            43.96          73.758   \n",
       "200      Algeria  1973  Africa  15804428.0            53.91          77.660   \n",
       "\n",
       "     babies_per_woman  gdp_per_capita  gdp_per_day  \n",
       "0                7.00           603.0     1.650924  \n",
       "20               7.67          1125.0     3.080082  \n",
       "40               7.67          1201.0     3.288159  \n",
       "60               7.83           872.0     2.387406  \n",
       "80               4.47          1925.0     5.270363  \n",
       "100              6.31          2108.0     5.771389  \n",
       "120              4.54          4177.0    11.436003  \n",
       "140              2.77          3457.0     9.464750  \n",
       "160              1.78         10160.0    27.816564  \n",
       "180              7.65          4077.0    11.162218  \n",
       "200              7.55          7581.0    20.755647  "
      ]
     },
     "execution_count": 3,
     "metadata": {},
     "output_type": "execute_result"
    }
   ],
   "source": [
    "gapminder.loc[0:200:20]"
   ]
  },
  {
   "cell_type": "code",
   "execution_count": 4,
   "metadata": {},
   "outputs": [
    {
     "data": {
      "text/plain": [
       "<matplotlib.axes._subplots.AxesSubplot at 0x11f45afd0>"
      ]
     },
     "execution_count": 4,
     "metadata": {},
     "output_type": "execute_result"
    },
    {
     "data": {
      "image/png": "[encoded data removed]",
      "text/plain": [
       "<Figure size 432x288 with 1 Axes>"
      ]
     },
     "metadata": {},
     "output_type": "display_data"
    }
   ],
   "source": [
    "%matplotlib inline\n",
    "gapminder[gapminder.year == 1965].plot.scatter('babies_per_woman','age5_surviving')"
   ]
  },
  {
   "cell_type": "code",
   "execution_count": 5,
   "metadata": {},
   "outputs": [],
   "source": [
    "import matplotlib.pyplot as plt\n",
    "def plotyear(year):\n",
    "    data = gapminder[gapminder.year == year]\n",
    "    area = 5e-6 * data.population\n",
    "    colors = data.region.map({'Africa': 'skyblue', 'Europe': 'gold', 'America': 'palegreen', 'Asia': 'coral'})\n",
    "    \n",
    "    data.plot.scatter('babies_per_woman','age5_surviving',\n",
    "                      s=area,c=colors,\n",
    "                      linewidths=1,edgecolors='k',\n",
    "                      figsize=(12,9))\n",
    "    \n",
    "    plt.axis(ymin=50,ymax=105,xmin=0,xmax=8)\n",
    "    plt.xlabel('babies per woman')\n",
    "    plt.ylabel('% children alive at 5')"
   ]
  },
  {
   "cell_type": "code",
   "execution_count": 6,
   "metadata": {},
   "outputs": [
    {
     "data": {
      "image/png": "[encoded data removed]",
      "text/plain": [
       "<Figure size 864x648 with 1 Axes>"
      ]
     },
     "metadata": {},
     "output_type": "display_data"
    }
   ],
   "source": [
    "plotyear(1965)"
   ]
  },
  {
   "cell_type": "code",
   "execution_count": 7,
   "metadata": {},
   "outputs": [
    {
     "data": {
      "application/vnd.jupyter.widget-view+json": {
       "model_id": "ddd5ea828adc43b9a1f1c160c2a7727c",
       "version_major": 2,
       "version_minor": 0
      },
      "text/plain": [
       "interactive(children=(IntSlider(value=1965, description='year', max=2015, min=1950), Output()), _dom_classes=(…"
      ]
     },
     "metadata": {},
     "output_type": "display_data"
    },
    {
     "data": {
      "text/plain": [
       "<function __main__.plotyear(year)>"
      ]
     },
     "execution_count": 7,
     "metadata": {},
     "output_type": "execute_result"
    }
   ],
   "source": [
    "from ipywidgets import interact, widgets\n",
    "\n",
    "interact(plotyear,year=widgets.IntSlider(min=1950,max=2015,step=1,value=1965))"
   ]
  },
  {
   "cell_type": "code",
   "execution_count": null,
   "metadata": {},
   "outputs": [],
   "source": []
  }
 ],
 "metadata": {
  "kernelspec": {
   "display_name": "Python 3",
   "language": "python",
   "name": "python3"
  },
  "language_info": {
   "codemirror_mode": {
    "name": "ipython",
    "version": 3
   },
   "file_extension": ".py",
   "mimetype": "text/x-python",
   "name": "python",
   "nbconvert_exporter": "python",
   "pygments_lexer": "ipython3",
   "version": "3.6.5"
  }
 },
 "nbformat": 4,
 "nbformat_minor": 2
}
